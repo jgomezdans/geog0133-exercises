{
 "cells": [
  {
   "cell_type": "markdown",
   "metadata": {},
   "source": [
    "# A simple Earth system model\n",
    "\n",
    "Here, we develop a simple ‘zero-dimensional’ model of the climate system. Whilst this clearly lack many of the processes we know are important for understanding climate, it does demonstrate some fundamental principles, based on concepts of radiative equilibrium.\n",
    "\n",
    "Some interesting additional reading to this exercise would be the [AIP essay on Simple Models of Climate Change](https://history.aip.org/history/climate/simple.htm)\n",
    "\n",
    "Assume the incoming solar radiation (radiative flux) is $342 Wm^{-2}$.\n",
    "\n",
    "Assume that 31% of this is reflected back to space.\n",
    "\n",
    "Assume the temperature T (K) of the Earth is constant over its surface and that it radiates as a black body.\n",
    "\n",
    "We can then use the Stefan-Boltzmann law to give the radiative flux emitted by the Earth to balance the incoming radiation:\n",
    "\n",
    "$$\n",
    "J = \\sigma T^{4},\n",
    "$$\n",
    "where J is the emitted radiative flux ($Wm^{-2}$) from the blackbody and $\\sigma$ is the Stefan-Boltzmann constant, $\\sigma = 5.670400 \\cdot 10^{-8}\\; Js^{-1}m^{-2}T^{-4}$. We can then calculate the effective temperature of the Earth (in Python) as:"
   ]
  },
  {
   "cell_type": "code",
   "execution_count": 1,
   "metadata": {},
   "outputs": [
    {
     "name": "stdout",
     "output_type": "stream",
     "text": [
      "-19.16072685633651\n"
     ]
    }
   ],
   "source": [
    "albedo = 0.31\n",
    "Jin = 342.0\n",
    "\n",
    "def my_first_earth_system(albedo=0.31,Jin=342.0):\n",
    "    '''\n",
    "    A simple earth system model to give the effective\n",
    "    planetary temperature (C). Function takes as input\n",
    "    the planetary albedo (unitless) and the incoming\n",
    "    solar radiation (in Wm^{-2}). Returns the effective\n",
    "    temperature of the Earth (in degrees C).\n",
    "    '''\n",
    "    # Stefan-Boltzmann constant\n",
    "    sigma = 5.670400e-8\n",
    "    Jout = Jin*(1-albedo)\n",
    "    T = (Jout/sigma)**(1/4.)\n",
    "    # return temperature in C\n",
    "    return T-273.15\n",
    "\n",
    "print (my_first_earth_system(albedo,Jin))"
   ]
  },
  {
   "cell_type": "markdown",
   "metadata": {},
   "source": [
    "### Exercise 1\n",
    "\n",
    "* Use this model to show what the sensitivity of the temperature is to albedo and the incoming solar radiation.\n",
    "\n",
    "* What factors would cause variations in these terms?\n"
   ]
  },
  {
   "cell_type": "markdown",
   "metadata": {},
   "source": [
    "\n",
    "## Exercise 2\n",
    "\n",
    "A grey body radiator is less efficient at emitting radiation than a blackbody. Such a concept is easily incorporated into the Stefan-Boltzmann law using an emissivity term epsilon, so $J = \\epsilon\\cdot\\sigma T^4$.\n",
    "\n",
    "* Assuming the actual average surface temperature is around 14 C, modify the code above to return the *effective emissivity* of the Earth.\n",
    "* We assumed above that the effective (broadband) shortwave albedo was 0.31, so the effective (broadband) shortwave absorptance is $1-0.31=0.69$. The effective (broadband) longwave absorptance is equal to the effective (broadband) longwave emissivity through [Kirchoff’s law (of thermal radiation)](http://en.wikipedia.org/wiki/Kirchhoff%27s_law_of_thermal_radiation), assuming thermal equilibrium. What then is the effective (broadband) longwave albedo?\n",
    "* Why do we use the words effective and broadband above?\n",
    "* What impact would increasing the concentrations of greenhouse gases have on the effective (broadband) longwave albedo?"
   ]
  },
  {
   "cell_type": "code",
   "execution_count": null,
   "metadata": {},
   "outputs": [],
   "source": []
  }
 ],
 "metadata": {
  "kernelspec": {
   "display_name": "Python 3",
   "language": "python",
   "name": "python3"
  },
  "language_info": {
   "codemirror_mode": {
    "name": "ipython",
    "version": 3
   },
   "file_extension": ".py",
   "mimetype": "text/x-python",
   "name": "python",
   "nbconvert_exporter": "python",
   "pygments_lexer": "ipython3",
   "version": "3.6.6"
  },
  "latex_envs": {
   "LaTeX_envs_menu_present": true,
   "autoclose": false,
   "autocomplete": true,
   "bibliofile": "biblio.bib",
   "cite_by": "apalike",
   "current_citInitial": 1,
   "eqLabelWithNumbers": true,
   "eqNumInitial": 1,
   "hotkeys": {
    "equation": "Ctrl-E",
    "itemize": "Ctrl-I"
   },
   "labels_anchors": false,
   "latex_user_defs": false,
   "report_style_numbering": false,
   "user_envs_cfg": false
  },
  "varInspector": {
   "cols": {
    "lenName": 16,
    "lenType": 16,
    "lenVar": 40
   },
   "kernels_config": {
    "python": {
     "delete_cmd_postfix": "",
     "delete_cmd_prefix": "del ",
     "library": "var_list.py",
     "varRefreshCmd": "print(var_dic_list())"
    },
    "r": {
     "delete_cmd_postfix": ") ",
     "delete_cmd_prefix": "rm(",
     "library": "var_list.r",
     "varRefreshCmd": "cat(var_dic_list()) "
    }
   },
   "types_to_exclude": [
    "module",
    "function",
    "builtin_function_or_method",
    "instance",
    "_Feature"
   ],
   "window_display": false
  }
 },
 "nbformat": 4,
 "nbformat_minor": 2
}
